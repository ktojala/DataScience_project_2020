{
 "cells": [
  {
   "cell_type": "markdown",
   "metadata": {},
   "source": [
    "# Widget to predict citybike availability\n",
    "\n",
    "This is a proof-of-concept for a tool that predicts bike availability in citybike stations. The widget itself is at the end of the playbook (tested on MacBook Air). Only Kaisaniemi station is represented at the moment, and there are three different sliders to choose weather effects from. The model is based on linear regression so the effects of each variable are pretty straight-forward but also correspond to intuition."
   ]
  },
  {
   "cell_type": "code",
   "execution_count": 1,
   "metadata": {},
   "outputs": [],
   "source": [
    "import numpy as np\n",
    "import pandas as pd\n",
    "\n",
    "import plotly.graph_objects as go\n",
    "from ipywidgets import widgets"
   ]
  },
  {
   "cell_type": "code",
   "execution_count": 2,
   "metadata": {},
   "outputs": [],
   "source": [
    "data = pd.read_csv('kaisaniemi_summer_combined.csv')"
   ]
  },
  {
   "cell_type": "code",
   "execution_count": 3,
   "metadata": {},
   "outputs": [
    {
     "name": "stdout",
     "output_type": "stream",
     "text": [
      "(4689, 22)\n"
     ]
    },
    {
     "data": {
      "text/html": [
       "<div>\n",
       "<style scoped>\n",
       "    .dataframe tbody tr th:only-of-type {\n",
       "        vertical-align: middle;\n",
       "    }\n",
       "\n",
       "    .dataframe tbody tr th {\n",
       "        vertical-align: top;\n",
       "    }\n",
       "\n",
       "    .dataframe thead th {\n",
       "        text-align: right;\n",
       "    }\n",
       "</style>\n",
       "<table border=\"1\" class=\"dataframe\">\n",
       "  <thead>\n",
       "    <tr style=\"text-align: right;\">\n",
       "      <th></th>\n",
       "      <th>Unnamed: 0</th>\n",
       "      <th>Unnamed: 0.1</th>\n",
       "      <th>Päivämäärä</th>\n",
       "      <th>Kaisaniemi/Eläintarhanlahti</th>\n",
       "      <th>weekday</th>\n",
       "      <th>day</th>\n",
       "      <th>year</th>\n",
       "      <th>hour</th>\n",
       "      <th>month</th>\n",
       "      <th>Clouds</th>\n",
       "      <th>...</th>\n",
       "      <th>RainmmH</th>\n",
       "      <th>Snowcm</th>\n",
       "      <th>ToC</th>\n",
       "      <th>DewToC</th>\n",
       "      <th>Visibilitym</th>\n",
       "      <th>Winddirdeg</th>\n",
       "      <th>Gustms</th>\n",
       "      <th>Windms</th>\n",
       "      <th>bikesAvailable</th>\n",
       "      <th>spacesAvailable</th>\n",
       "    </tr>\n",
       "  </thead>\n",
       "  <tbody>\n",
       "    <tr>\n",
       "      <th>0</th>\n",
       "      <td>0</td>\n",
       "      <td>0</td>\n",
       "      <td>ke 3 huhti 2019 00:00</td>\n",
       "      <td>5</td>\n",
       "      <td>ke</td>\n",
       "      <td>3</td>\n",
       "      <td>2019</td>\n",
       "      <td>0</td>\n",
       "      <td>4</td>\n",
       "      <td>0</td>\n",
       "      <td>...</td>\n",
       "      <td>0.0</td>\n",
       "      <td>0</td>\n",
       "      <td>3.4</td>\n",
       "      <td>-3.5</td>\n",
       "      <td>50000</td>\n",
       "      <td>172</td>\n",
       "      <td>5.02</td>\n",
       "      <td>3.05</td>\n",
       "      <td>12.916667</td>\n",
       "      <td>9.083333</td>\n",
       "    </tr>\n",
       "    <tr>\n",
       "      <th>1</th>\n",
       "      <td>1</td>\n",
       "      <td>1</td>\n",
       "      <td>ke 3 huhti 2019 01:00</td>\n",
       "      <td>2</td>\n",
       "      <td>ke</td>\n",
       "      <td>3</td>\n",
       "      <td>2019</td>\n",
       "      <td>1</td>\n",
       "      <td>4</td>\n",
       "      <td>0</td>\n",
       "      <td>...</td>\n",
       "      <td>0.0</td>\n",
       "      <td>0</td>\n",
       "      <td>2.6</td>\n",
       "      <td>-3.2</td>\n",
       "      <td>50000</td>\n",
       "      <td>174</td>\n",
       "      <td>4.01</td>\n",
       "      <td>2.08</td>\n",
       "      <td>11.500000</td>\n",
       "      <td>10.666667</td>\n",
       "    </tr>\n",
       "    <tr>\n",
       "      <th>2</th>\n",
       "      <td>2</td>\n",
       "      <td>2</td>\n",
       "      <td>ke 3 huhti 2019 02:00</td>\n",
       "      <td>1</td>\n",
       "      <td>ke</td>\n",
       "      <td>3</td>\n",
       "      <td>2019</td>\n",
       "      <td>2</td>\n",
       "      <td>4</td>\n",
       "      <td>0</td>\n",
       "      <td>...</td>\n",
       "      <td>0.0</td>\n",
       "      <td>0</td>\n",
       "      <td>2.5</td>\n",
       "      <td>-2.8</td>\n",
       "      <td>50000</td>\n",
       "      <td>157</td>\n",
       "      <td>4.02</td>\n",
       "      <td>2.08</td>\n",
       "      <td>17.000000</td>\n",
       "      <td>6.000000</td>\n",
       "    </tr>\n",
       "    <tr>\n",
       "      <th>3</th>\n",
       "      <td>3</td>\n",
       "      <td>3</td>\n",
       "      <td>ke 3 huhti 2019 13:00</td>\n",
       "      <td>55</td>\n",
       "      <td>ke</td>\n",
       "      <td>3</td>\n",
       "      <td>2019</td>\n",
       "      <td>13</td>\n",
       "      <td>4</td>\n",
       "      <td>0</td>\n",
       "      <td>...</td>\n",
       "      <td>0.0</td>\n",
       "      <td>0</td>\n",
       "      <td>8.0</td>\n",
       "      <td>-3.8</td>\n",
       "      <td>46450</td>\n",
       "      <td>173</td>\n",
       "      <td>8.06</td>\n",
       "      <td>4.07</td>\n",
       "      <td>17.272727</td>\n",
       "      <td>4.727273</td>\n",
       "    </tr>\n",
       "    <tr>\n",
       "      <th>4</th>\n",
       "      <td>4</td>\n",
       "      <td>4</td>\n",
       "      <td>ke 3 huhti 2019 14:00</td>\n",
       "      <td>51</td>\n",
       "      <td>ke</td>\n",
       "      <td>3</td>\n",
       "      <td>2019</td>\n",
       "      <td>14</td>\n",
       "      <td>4</td>\n",
       "      <td>0</td>\n",
       "      <td>...</td>\n",
       "      <td>0.0</td>\n",
       "      <td>0</td>\n",
       "      <td>9.2</td>\n",
       "      <td>-3.5</td>\n",
       "      <td>35530</td>\n",
       "      <td>169</td>\n",
       "      <td>8.04</td>\n",
       "      <td>4.03</td>\n",
       "      <td>14.666667</td>\n",
       "      <td>7.333333</td>\n",
       "    </tr>\n",
       "  </tbody>\n",
       "</table>\n",
       "<p>5 rows × 22 columns</p>\n",
       "</div>"
      ],
      "text/plain": [
       "   Unnamed: 0  Unnamed: 0.1             Päivämäärä  \\\n",
       "0           0             0  ke 3 huhti 2019 00:00   \n",
       "1           1             1  ke 3 huhti 2019 01:00   \n",
       "2           2             2  ke 3 huhti 2019 02:00   \n",
       "3           3             3  ke 3 huhti 2019 13:00   \n",
       "4           4             4  ke 3 huhti 2019 14:00   \n",
       "\n",
       "   Kaisaniemi/Eläintarhanlahti weekday  day  year  hour  month  Clouds  ...  \\\n",
       "0                            5      ke    3  2019     0      4       0  ...   \n",
       "1                            2      ke    3  2019     1      4       0  ...   \n",
       "2                            1      ke    3  2019     2      4       0  ...   \n",
       "3                           55      ke    3  2019    13      4       0  ...   \n",
       "4                           51      ke    3  2019    14      4       0  ...   \n",
       "\n",
       "   RainmmH  Snowcm  ToC  DewToC  Visibilitym  Winddirdeg  Gustms  Windms  \\\n",
       "0      0.0       0  3.4    -3.5        50000         172    5.02    3.05   \n",
       "1      0.0       0  2.6    -3.2        50000         174    4.01    2.08   \n",
       "2      0.0       0  2.5    -2.8        50000         157    4.02    2.08   \n",
       "3      0.0       0  8.0    -3.8        46450         173    8.06    4.07   \n",
       "4      0.0       0  9.2    -3.5        35530         169    8.04    4.03   \n",
       "\n",
       "   bikesAvailable  spacesAvailable  \n",
       "0       12.916667         9.083333  \n",
       "1       11.500000        10.666667  \n",
       "2       17.000000         6.000000  \n",
       "3       17.272727         4.727273  \n",
       "4       14.666667         7.333333  \n",
       "\n",
       "[5 rows x 22 columns]"
      ]
     },
     "execution_count": 3,
     "metadata": {},
     "output_type": "execute_result"
    }
   ],
   "source": [
    "print(data.shape)\n",
    "data.head()"
   ]
  },
  {
   "cell_type": "code",
   "execution_count": 4,
   "metadata": {},
   "outputs": [],
   "source": [
    "hourlycity = data[['hour', 'RainmmH', 'ToC', 'Windms', 'bikesAvailable', 'spacesAvailable']]"
   ]
  },
  {
   "cell_type": "code",
   "execution_count": 5,
   "metadata": {},
   "outputs": [
    {
     "data": {
      "text/html": [
       "<div>\n",
       "<style scoped>\n",
       "    .dataframe tbody tr th:only-of-type {\n",
       "        vertical-align: middle;\n",
       "    }\n",
       "\n",
       "    .dataframe tbody tr th {\n",
       "        vertical-align: top;\n",
       "    }\n",
       "\n",
       "    .dataframe thead th {\n",
       "        text-align: right;\n",
       "    }\n",
       "</style>\n",
       "<table border=\"1\" class=\"dataframe\">\n",
       "  <thead>\n",
       "    <tr style=\"text-align: right;\">\n",
       "      <th></th>\n",
       "      <th>hour</th>\n",
       "      <th>RainmmH</th>\n",
       "      <th>ToC</th>\n",
       "      <th>Windms</th>\n",
       "      <th>bikesAvailable</th>\n",
       "      <th>spacesAvailable</th>\n",
       "    </tr>\n",
       "  </thead>\n",
       "  <tbody>\n",
       "    <tr>\n",
       "      <th>1526</th>\n",
       "      <td>11</td>\n",
       "      <td>0.0</td>\n",
       "      <td>14.9</td>\n",
       "      <td>3.05</td>\n",
       "      <td>7.833333</td>\n",
       "      <td>14.166667</td>\n",
       "    </tr>\n",
       "  </tbody>\n",
       "</table>\n",
       "</div>"
      ],
      "text/plain": [
       "      hour  RainmmH   ToC  Windms  bikesAvailable  spacesAvailable\n",
       "1526    11      0.0  14.9    3.05        7.833333        14.166667"
      ]
     },
     "execution_count": 5,
     "metadata": {},
     "output_type": "execute_result"
    }
   ],
   "source": [
    "hourlycity.sample()"
   ]
  },
  {
   "cell_type": "code",
   "execution_count": 6,
   "metadata": {},
   "outputs": [],
   "source": [
    "avgs = dict()\n",
    "for i in range(24):\n",
    "    hourset = hourlycity[hourlycity['hour'] == i]\n",
    "    bikes = hourset['bikesAvailable'].sum()\n",
    "    spaces = hourset['spacesAvailable'].sum()\n",
    "    avgs[i] = (bikes / len(hourset), spaces / len(hourset))"
   ]
  },
  {
   "cell_type": "code",
   "execution_count": 7,
   "metadata": {},
   "outputs": [
    {
     "data": {
      "text/plain": [
       "{0: (8.651897765534128, 16.123010407101315),\n",
       " 1: (8.145163758800122, 16.487794612794612),\n",
       " 2: (7.940707070707071, 16.642587412587414),\n",
       " 3: (7.545631182289212, 16.937490186842517),\n",
       " 4: (7.055672105672105, 17.275097125097123),\n",
       " 5: (7.010330578512397, 17.283462971965648),\n",
       " 6: (7.181843818899656, 17.05631184945906),\n",
       " 7: (7.2531179138322, 16.87750206143063),\n",
       " 8: (5.557011440940013, 17.95860389610389),\n",
       " 9: (5.184799893983568, 17.91604271578761),\n",
       " 10: (6.050372960372961, 17.022198912198913),\n",
       " 11: (6.9673138086403394, 16.141761639720823),\n",
       " 12: (7.9328231292517, 15.225262832405688),\n",
       " 13: (9.32918012613444, 13.940170742962621),\n",
       " 14: (10.182978938160286, 13.199734203620215),\n",
       " 15: (11.869554180548944, 11.66161351737268),\n",
       " 16: (17.33733491639251, 7.70944439504649),\n",
       " 17: (21.95986013986014, 6.306930846930848),\n",
       " 18: (21.417965367965365, 7.595779220779219),\n",
       " 19: (19.17146853146853, 9.247801087801088),\n",
       " 20: (16.197893547512834, 11.442066971381692),\n",
       " 21: (13.04179797979798, 13.383891414141415),\n",
       " 22: (10.85170068027211, 14.649033704390847),\n",
       " 23: (9.474725378787877, 15.563304924242425)}"
      ]
     },
     "execution_count": 7,
     "metadata": {},
     "output_type": "execute_result"
    }
   ],
   "source": [
    "avgs"
   ]
  },
  {
   "cell_type": "code",
   "execution_count": 8,
   "metadata": {},
   "outputs": [],
   "source": [
    "from sklearn.model_selection import train_test_split\n",
    "from sklearn.linear_model import LinearRegression"
   ]
  },
  {
   "cell_type": "code",
   "execution_count": 9,
   "metadata": {},
   "outputs": [],
   "source": [
    "X = hourlycity[['hour', 'RainmmH', 'ToC', 'Windms']]\n",
    "y = hourlycity['bikesAvailable']"
   ]
  },
  {
   "cell_type": "code",
   "execution_count": 10,
   "metadata": {},
   "outputs": [],
   "source": [
    "X_train, X_test, y_train, y_test = train_test_split(X, y, test_size=0.2, random_state=44)"
   ]
  },
  {
   "cell_type": "code",
   "execution_count": 11,
   "metadata": {},
   "outputs": [
    {
     "data": {
      "text/plain": [
       "((3751, 4), (938, 4), (3751,), (938,))"
      ]
     },
     "execution_count": 11,
     "metadata": {},
     "output_type": "execute_result"
    }
   ],
   "source": [
    "X_train.shape, X_test.shape, y_train.shape, y_test.shape"
   ]
  },
  {
   "cell_type": "code",
   "execution_count": 12,
   "metadata": {},
   "outputs": [],
   "source": [
    "regr = LinearRegression()"
   ]
  },
  {
   "cell_type": "code",
   "execution_count": 13,
   "metadata": {},
   "outputs": [
    {
     "data": {
      "text/plain": [
       "LinearRegression()"
      ]
     },
     "execution_count": 13,
     "metadata": {},
     "output_type": "execute_result"
    }
   ],
   "source": [
    "regr.fit(X_train, y_train)"
   ]
  },
  {
   "cell_type": "code",
   "execution_count": 14,
   "metadata": {},
   "outputs": [
    {
     "data": {
      "text/html": [
       "<div>\n",
       "<style scoped>\n",
       "    .dataframe tbody tr th:only-of-type {\n",
       "        vertical-align: middle;\n",
       "    }\n",
       "\n",
       "    .dataframe tbody tr th {\n",
       "        vertical-align: top;\n",
       "    }\n",
       "\n",
       "    .dataframe thead th {\n",
       "        text-align: right;\n",
       "    }\n",
       "</style>\n",
       "<table border=\"1\" class=\"dataframe\">\n",
       "  <thead>\n",
       "    <tr style=\"text-align: right;\">\n",
       "      <th></th>\n",
       "      <th>Predicted</th>\n",
       "    </tr>\n",
       "  </thead>\n",
       "  <tbody>\n",
       "    <tr>\n",
       "      <th>0</th>\n",
       "      <td>10.262528</td>\n",
       "    </tr>\n",
       "    <tr>\n",
       "      <th>1</th>\n",
       "      <td>14.613328</td>\n",
       "    </tr>\n",
       "    <tr>\n",
       "      <th>2</th>\n",
       "      <td>16.656173</td>\n",
       "    </tr>\n",
       "    <tr>\n",
       "      <th>3</th>\n",
       "      <td>12.083130</td>\n",
       "    </tr>\n",
       "    <tr>\n",
       "      <th>4</th>\n",
       "      <td>9.997908</td>\n",
       "    </tr>\n",
       "  </tbody>\n",
       "</table>\n",
       "</div>"
      ],
      "text/plain": [
       "   Predicted\n",
       "0  10.262528\n",
       "1  14.613328\n",
       "2  16.656173\n",
       "3  12.083130\n",
       "4   9.997908"
      ]
     },
     "execution_count": 14,
     "metadata": {},
     "output_type": "execute_result"
    }
   ],
   "source": [
    "y_pred = regr.predict(X_test)\n",
    "y_pred = pd.DataFrame(y_pred, columns=['Predicted'])\n",
    "y_pred.head()"
   ]
  },
  {
   "cell_type": "code",
   "execution_count": 15,
   "metadata": {},
   "outputs": [],
   "source": [
    "rain_init = 0\n",
    "rain = widgets.FloatSlider(\n",
    "    value=rain_init,\n",
    "    min=0,\n",
    "    max=hourlycity['RainmmH'].max(),\n",
    "    step=0.1,\n",
    "    description='Rain:',\n",
    "    continuous_update=True\n",
    ")\n",
    "\n",
    "temp_init = 15\n",
    "temp = widgets.IntSlider(\n",
    "    value=temp_init,\n",
    "    min=hourlycity['ToC'].min(),\n",
    "    max=hourlycity['ToC'].max(),\n",
    "    step=1,\n",
    "    description='Temperature:',\n",
    "    continuous_update=True\n",
    ")\n",
    "\n",
    "wind_init = 1\n",
    "wind = widgets.IntSlider(\n",
    "    value=wind_init,\n",
    "    min=0,\n",
    "    max=hourlycity['Windms'].max(),\n",
    "    step=1,\n",
    "    description='Wind:',\n",
    "    continuous_update=True\n",
    ")\n",
    "container = widgets.HBox(children=[rain, temp, wind])\n",
    "\n",
    "initl = list()\n",
    "for i in range(24):\n",
    "    initl.append(regr.predict(np.array([i, rain_init, temp_init, wind_init]).reshape(1, -1)))\n",
    "    \n",
    "initr = go.Scatter(y=[elem[0] for elem in avgs.values()], name='Bikes available')\n",
    "g = go.FigureWidget(data=[initr],\n",
    "                    layout=go.Layout(\n",
    "                        title=dict(\n",
    "                            text='Citybikes available (Kaisaniemi)',\n",
    "                        ),\n",
    "                        colorway=['orange'],\n",
    "                        xaxis=go.layout.XAxis(title=dict(\n",
    "                            text='Hour of Day')\n",
    "                        ),\n",
    "                        yaxis=go.layout.YAxis(title=dict(\n",
    "                            text='Bikes')\n",
    "                        )\n",
    "                    ))"
   ]
  },
  {
   "cell_type": "code",
   "execution_count": 16,
   "metadata": {},
   "outputs": [],
   "source": [
    "def update_vals():\n",
    "    new = list()\n",
    "    for i in range(24):\n",
    "        shift = initl[i] - regr.predict(np.array([i, rain.value, temp.value, wind.value]).reshape(1, -1))\n",
    "        new.append(avgs[i][0] - shift)\n",
    "    return new\n",
    "        \n",
    "\n",
    "def response(change):\n",
    "    trc = update_vals()\n",
    "        \n",
    "    with g.batch_update():\n",
    "        g.data[0].y = [elem[0] for elem in trc]\n",
    "        g.layout = go.Layout(\n",
    "            title = dict(\n",
    "                text = 'Citybikes available (Kaisaniemi)'\n",
    "            ),\n",
    "            colorway=['orange'],\n",
    "            xaxis=go.layout.XAxis(title=dict(\n",
    "                            text='Hour of Day')\n",
    "            ),\n",
    "            yaxis=go.layout.YAxis(title=dict(\n",
    "                text='Bikes')\n",
    "            )\n",
    "        )\n",
    "        g.update_yaxes(range=[0, 30], fixedrange=True)\n",
    "\n",
    "rain.observe(response, names='value')\n",
    "temp.observe(response, names='value')\n",
    "wind.observe(response, names='value')"
   ]
  },
  {
   "cell_type": "code",
   "execution_count": 17,
   "metadata": {
    "scrolled": true
   },
   "outputs": [
    {
     "data": {
      "application/vnd.jupyter.widget-view+json": {
       "model_id": "e5e63861ee4640979658eb728745be96",
       "version_major": 2,
       "version_minor": 0
      },
      "text/plain": [
       "VBox(children=(HBox(children=(FloatSlider(value=0.0, description='Rain:', max=19.06), IntSlider(value=15, desc…"
      ]
     },
     "metadata": {},
     "output_type": "display_data"
    }
   ],
   "source": [
    "g.update_yaxes(range=[0, 30], fixedrange=True)\n",
    "widgets.VBox([container, g])"
   ]
  },
  {
   "cell_type": "code",
   "execution_count": null,
   "metadata": {},
   "outputs": [],
   "source": []
  }
 ],
 "metadata": {
  "kernelspec": {
   "display_name": "Python 3",
   "language": "python",
   "name": "python3"
  },
  "language_info": {
   "codemirror_mode": {
    "name": "ipython",
    "version": 3
   },
   "file_extension": ".py",
   "mimetype": "text/x-python",
   "name": "python",
   "nbconvert_exporter": "python",
   "pygments_lexer": "ipython3",
   "version": "3.8.5"
  }
 },
 "nbformat": 4,
 "nbformat_minor": 4
}
