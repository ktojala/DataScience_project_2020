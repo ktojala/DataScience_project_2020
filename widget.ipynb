{
 "cells": [
  {
   "cell_type": "code",
   "execution_count": 2,
   "metadata": {},
   "outputs": [],
   "source": [
    "import numpy as np\n",
    "import pandas as pd\n",
    "\n",
    "import plotly.graph_objects as go\n",
    "from ipywidgets import widgets"
   ]
  },
  {
   "cell_type": "code",
   "execution_count": 3,
   "metadata": {},
   "outputs": [],
   "source": [
    "data = pd.read_csv('DataScience_project/kaisaniemi_summer_combined.csv')"
   ]
  },
  {
   "cell_type": "code",
   "execution_count": 17,
   "metadata": {},
   "outputs": [
    {
     "name": "stdout",
     "output_type": "stream",
     "text": [
      "(4689, 21)\n"
     ]
    },
    {
     "data": {
      "text/html": [
       "<div>\n",
       "<style scoped>\n",
       "    .dataframe tbody tr th:only-of-type {\n",
       "        vertical-align: middle;\n",
       "    }\n",
       "\n",
       "    .dataframe tbody tr th {\n",
       "        vertical-align: top;\n",
       "    }\n",
       "\n",
       "    .dataframe thead th {\n",
       "        text-align: right;\n",
       "    }\n",
       "</style>\n",
       "<table border=\"1\" class=\"dataframe\">\n",
       "  <thead>\n",
       "    <tr style=\"text-align: right;\">\n",
       "      <th></th>\n",
       "      <th>Unnamed: 0</th>\n",
       "      <th>Päivämäärä</th>\n",
       "      <th>Kaisaniemi/Eläintarhanlahti</th>\n",
       "      <th>weekday</th>\n",
       "      <th>day</th>\n",
       "      <th>year</th>\n",
       "      <th>hour</th>\n",
       "      <th>month</th>\n",
       "      <th>Clouds</th>\n",
       "      <th>AirPhPa</th>\n",
       "      <th>...</th>\n",
       "      <th>RainmmH</th>\n",
       "      <th>Snowcm</th>\n",
       "      <th>ToC</th>\n",
       "      <th>DewToC</th>\n",
       "      <th>Visibilitym</th>\n",
       "      <th>Winddirdeg</th>\n",
       "      <th>Gustms</th>\n",
       "      <th>Windms</th>\n",
       "      <th>bikesAvailable</th>\n",
       "      <th>spacesAvailable</th>\n",
       "    </tr>\n",
       "  </thead>\n",
       "  <tbody>\n",
       "    <tr>\n",
       "      <th>0</th>\n",
       "      <td>0</td>\n",
       "      <td>ke 3 huhti 2019 00:00</td>\n",
       "      <td>5</td>\n",
       "      <td>ke</td>\n",
       "      <td>3</td>\n",
       "      <td>2019</td>\n",
       "      <td>0</td>\n",
       "      <td>4</td>\n",
       "      <td>0</td>\n",
       "      <td>1026.1</td>\n",
       "      <td>...</td>\n",
       "      <td>0.0</td>\n",
       "      <td>0</td>\n",
       "      <td>3.4</td>\n",
       "      <td>-3.5</td>\n",
       "      <td>50000</td>\n",
       "      <td>172</td>\n",
       "      <td>5.02</td>\n",
       "      <td>3.05</td>\n",
       "      <td>12.916667</td>\n",
       "      <td>9.083333</td>\n",
       "    </tr>\n",
       "    <tr>\n",
       "      <th>1</th>\n",
       "      <td>1</td>\n",
       "      <td>ke 3 huhti 2019 01:00</td>\n",
       "      <td>2</td>\n",
       "      <td>ke</td>\n",
       "      <td>3</td>\n",
       "      <td>2019</td>\n",
       "      <td>1</td>\n",
       "      <td>4</td>\n",
       "      <td>0</td>\n",
       "      <td>1026.2</td>\n",
       "      <td>...</td>\n",
       "      <td>0.0</td>\n",
       "      <td>0</td>\n",
       "      <td>2.6</td>\n",
       "      <td>-3.2</td>\n",
       "      <td>50000</td>\n",
       "      <td>174</td>\n",
       "      <td>4.01</td>\n",
       "      <td>2.08</td>\n",
       "      <td>11.500000</td>\n",
       "      <td>10.666667</td>\n",
       "    </tr>\n",
       "    <tr>\n",
       "      <th>2</th>\n",
       "      <td>2</td>\n",
       "      <td>ke 3 huhti 2019 02:00</td>\n",
       "      <td>1</td>\n",
       "      <td>ke</td>\n",
       "      <td>3</td>\n",
       "      <td>2019</td>\n",
       "      <td>2</td>\n",
       "      <td>4</td>\n",
       "      <td>0</td>\n",
       "      <td>1026.1</td>\n",
       "      <td>...</td>\n",
       "      <td>0.0</td>\n",
       "      <td>0</td>\n",
       "      <td>2.5</td>\n",
       "      <td>-2.8</td>\n",
       "      <td>50000</td>\n",
       "      <td>157</td>\n",
       "      <td>4.02</td>\n",
       "      <td>2.08</td>\n",
       "      <td>17.000000</td>\n",
       "      <td>6.000000</td>\n",
       "    </tr>\n",
       "    <tr>\n",
       "      <th>3</th>\n",
       "      <td>3</td>\n",
       "      <td>ke 3 huhti 2019 13:00</td>\n",
       "      <td>55</td>\n",
       "      <td>ke</td>\n",
       "      <td>3</td>\n",
       "      <td>2019</td>\n",
       "      <td>13</td>\n",
       "      <td>4</td>\n",
       "      <td>0</td>\n",
       "      <td>1024.2</td>\n",
       "      <td>...</td>\n",
       "      <td>0.0</td>\n",
       "      <td>0</td>\n",
       "      <td>8.0</td>\n",
       "      <td>-3.8</td>\n",
       "      <td>46450</td>\n",
       "      <td>173</td>\n",
       "      <td>8.06</td>\n",
       "      <td>4.07</td>\n",
       "      <td>17.272727</td>\n",
       "      <td>4.727273</td>\n",
       "    </tr>\n",
       "    <tr>\n",
       "      <th>4</th>\n",
       "      <td>4</td>\n",
       "      <td>ke 3 huhti 2019 14:00</td>\n",
       "      <td>51</td>\n",
       "      <td>ke</td>\n",
       "      <td>3</td>\n",
       "      <td>2019</td>\n",
       "      <td>14</td>\n",
       "      <td>4</td>\n",
       "      <td>0</td>\n",
       "      <td>1023.8</td>\n",
       "      <td>...</td>\n",
       "      <td>0.0</td>\n",
       "      <td>0</td>\n",
       "      <td>9.2</td>\n",
       "      <td>-3.5</td>\n",
       "      <td>35530</td>\n",
       "      <td>169</td>\n",
       "      <td>8.04</td>\n",
       "      <td>4.03</td>\n",
       "      <td>14.666667</td>\n",
       "      <td>7.333333</td>\n",
       "    </tr>\n",
       "  </tbody>\n",
       "</table>\n",
       "<p>5 rows × 21 columns</p>\n",
       "</div>"
      ],
      "text/plain": [
       "   Unnamed: 0             Päivämäärä  Kaisaniemi/Eläintarhanlahti weekday  \\\n",
       "0           0  ke 3 huhti 2019 00:00                            5      ke   \n",
       "1           1  ke 3 huhti 2019 01:00                            2      ke   \n",
       "2           2  ke 3 huhti 2019 02:00                            1      ke   \n",
       "3           3  ke 3 huhti 2019 13:00                           55      ke   \n",
       "4           4  ke 3 huhti 2019 14:00                           51      ke   \n",
       "\n",
       "   day  year  hour  month  Clouds  AirPhPa  ...  RainmmH  Snowcm  ToC  DewToC  \\\n",
       "0    3  2019     0      4       0   1026.1  ...      0.0       0  3.4    -3.5   \n",
       "1    3  2019     1      4       0   1026.2  ...      0.0       0  2.6    -3.2   \n",
       "2    3  2019     2      4       0   1026.1  ...      0.0       0  2.5    -2.8   \n",
       "3    3  2019    13      4       0   1024.2  ...      0.0       0  8.0    -3.8   \n",
       "4    3  2019    14      4       0   1023.8  ...      0.0       0  9.2    -3.5   \n",
       "\n",
       "   Visibilitym  Winddirdeg  Gustms  Windms  bikesAvailable  spacesAvailable  \n",
       "0        50000         172    5.02    3.05       12.916667         9.083333  \n",
       "1        50000         174    4.01    2.08       11.500000        10.666667  \n",
       "2        50000         157    4.02    2.08       17.000000         6.000000  \n",
       "3        46450         173    8.06    4.07       17.272727         4.727273  \n",
       "4        35530         169    8.04    4.03       14.666667         7.333333  \n",
       "\n",
       "[5 rows x 21 columns]"
      ]
     },
     "execution_count": 17,
     "metadata": {},
     "output_type": "execute_result"
    }
   ],
   "source": [
    "print(data.shape)\n",
    "data.head()"
   ]
  },
  {
   "cell_type": "code",
   "execution_count": 34,
   "metadata": {},
   "outputs": [],
   "source": [
    "hourlycity = data[['hour', 'RainmmH', 'bikesAvailable', 'spacesAvailable']]"
   ]
  },
  {
   "cell_type": "code",
   "execution_count": 35,
   "metadata": {},
   "outputs": [
    {
     "data": {
      "text/html": [
       "<div>\n",
       "<style scoped>\n",
       "    .dataframe tbody tr th:only-of-type {\n",
       "        vertical-align: middle;\n",
       "    }\n",
       "\n",
       "    .dataframe tbody tr th {\n",
       "        vertical-align: top;\n",
       "    }\n",
       "\n",
       "    .dataframe thead th {\n",
       "        text-align: right;\n",
       "    }\n",
       "</style>\n",
       "<table border=\"1\" class=\"dataframe\">\n",
       "  <thead>\n",
       "    <tr style=\"text-align: right;\">\n",
       "      <th></th>\n",
       "      <th>hour</th>\n",
       "      <th>RainmmH</th>\n",
       "      <th>bikesAvailable</th>\n",
       "      <th>spacesAvailable</th>\n",
       "    </tr>\n",
       "  </thead>\n",
       "  <tbody>\n",
       "    <tr>\n",
       "      <th>4630</th>\n",
       "      <td>16</td>\n",
       "      <td>0.0</td>\n",
       "      <td>14.833333</td>\n",
       "      <td>12.833333</td>\n",
       "    </tr>\n",
       "  </tbody>\n",
       "</table>\n",
       "</div>"
      ],
      "text/plain": [
       "      hour  RainmmH  bikesAvailable  spacesAvailable\n",
       "4630    16      0.0       14.833333        12.833333"
      ]
     },
     "execution_count": 35,
     "metadata": {},
     "output_type": "execute_result"
    }
   ],
   "source": [
    "hourlycity.sample()"
   ]
  },
  {
   "cell_type": "code",
   "execution_count": 38,
   "metadata": {},
   "outputs": [],
   "source": [
    "avgs = dict()\n",
    "for i in range(24):\n",
    "    hourset = hourlycity[hourlycity['hour'] == i]\n",
    "    bikes = hourset['bikesAvailable'].sum()\n",
    "    spaces = hourset['spacesAvailable'].sum()\n",
    "    avgs[i] = (bikes / len(hourset), spaces / len(hourset))"
   ]
  },
  {
   "cell_type": "code",
   "execution_count": 39,
   "metadata": {},
   "outputs": [
    {
     "data": {
      "text/plain": [
       "{0: (8.651897765534128, 16.123010407101315),\n",
       " 1: (8.145163758800122, 16.487794612794612),\n",
       " 2: (7.940707070707071, 16.642587412587414),\n",
       " 3: (7.545631182289212, 16.937490186842517),\n",
       " 4: (7.055672105672105, 17.275097125097123),\n",
       " 5: (7.010330578512397, 17.283462971965648),\n",
       " 6: (7.181843818899656, 17.05631184945906),\n",
       " 7: (7.2531179138322, 16.87750206143063),\n",
       " 8: (5.557011440940013, 17.95860389610389),\n",
       " 9: (5.184799893983568, 17.91604271578761),\n",
       " 10: (6.050372960372961, 17.022198912198913),\n",
       " 11: (6.9673138086403394, 16.141761639720823),\n",
       " 12: (7.9328231292517, 15.225262832405688),\n",
       " 13: (9.32918012613444, 13.940170742962621),\n",
       " 14: (10.182978938160286, 13.199734203620215),\n",
       " 15: (11.869554180548944, 11.66161351737268),\n",
       " 16: (17.33733491639251, 7.70944439504649),\n",
       " 17: (21.95986013986014, 6.306930846930848),\n",
       " 18: (21.417965367965365, 7.595779220779219),\n",
       " 19: (19.17146853146853, 9.247801087801088),\n",
       " 20: (16.197893547512834, 11.442066971381692),\n",
       " 21: (13.04179797979798, 13.383891414141415),\n",
       " 22: (10.85170068027211, 14.649033704390847),\n",
       " 23: (9.474725378787877, 15.563304924242425)}"
      ]
     },
     "execution_count": 39,
     "metadata": {},
     "output_type": "execute_result"
    }
   ],
   "source": [
    "avgs"
   ]
  },
  {
   "cell_type": "code",
   "execution_count": 109,
   "metadata": {},
   "outputs": [
    {
     "data": {
      "text/plain": [
       "array([0.000e+00, 1.080e+00, 3.000e-02, 6.000e-02, 2.000e-02, 7.000e-02,\n",
       "       1.060e+00, 4.000e-02, 9.000e-02, 1.050e+00, 1.090e+00, 2.090e+00,\n",
       "       1.000e+00, 8.000e-02, 1.030e+00, 1.010e+00, 5.000e-02, 3.040e+00,\n",
       "       2.080e+00, 1.020e+00, 2.000e+00, 2.030e+00, 1.070e+00, 1.040e+00,\n",
       "       2.010e+00, 1.000e-02, 2.020e+00, 7.040e+00, 4.000e+00, 6.000e+00,\n",
       "       1.404e+01, 2.050e+00, 1.007e+01, 6.070e+00, 1.702e+01, 5.050e+00,\n",
       "       1.508e+01, 1.906e+01, 7.030e+00, 5.040e+00, 3.060e+00, 5.010e+00,\n",
       "       3.090e+00, 5.060e+00, 4.040e+00, 7.090e+00, 1.103e+01, 7.070e+00,\n",
       "       3.050e+00, 2.060e+00, 3.080e+00])"
      ]
     },
     "execution_count": 109,
     "metadata": {},
     "output_type": "execute_result"
    }
   ],
   "source": [
    "data['RainmmH'].unique()"
   ]
  },
  {
   "cell_type": "code",
   "execution_count": 142,
   "metadata": {},
   "outputs": [],
   "source": [
    "rain_eff = dict()\n",
    "lrain_eff = dict()\n",
    "norain_eff = dict()\n",
    "for i in range(24):\n",
    "    hourset = hourlycity[(hourlycity['hour'] == i) & (hourlycity['RainmmH'] > 0.06)]\n",
    "    bikes = hourset['bikesAvailable'].sum()\n",
    "    spaces = hourset['spacesAvailable'].sum()\n",
    "    rain_eff[i] = (bikes / len(hourset), spaces / len(hourset))\n",
    "    #print(f'heavy rain, i: {i}, bikes: {bikes}, len: {len(hourset)}')\n",
    "    \n",
    "    hourset = hourlycity[(hourlycity['hour'] == i) & (hourlycity['RainmmH'] > 0) & (hourlycity['RainmmH'] <= 0.06)]\n",
    "    bikes = hourset['bikesAvailable'].sum()\n",
    "    spaces = hourset['spacesAvailable'].sum()\n",
    "    lrain_eff[i] = (bikes / len(hourset), spaces / len(hourset))\n",
    "    \n",
    "    hourset = hourlycity[(hourlycity['hour'] == i) & (hourlycity['RainmmH'] == 0)]\n",
    "    bikes = hourset['bikesAvailable'].sum()\n",
    "    spaces = hourset['spacesAvailable'].sum()\n",
    "    norain_eff[i] = (bikes / len(hourset), spaces / len(hourset))"
   ]
  },
  {
   "cell_type": "code",
   "execution_count": 143,
   "metadata": {},
   "outputs": [
    {
     "data": {
      "text/plain": [
       "{0: (16.1875, 12.291666666666666),\n",
       " 1: (17.9375, 10.3125),\n",
       " 2: (14.0, 10.5),\n",
       " 3: (9.0, 15.5),\n",
       " 4: (7.0, 17.0),\n",
       " 5: (5.263888888888889, 18.069444444444446),\n",
       " 6: (7.595238095238095, 17.261904761904763),\n",
       " 7: (9.366666666666665, 14.433333333333334),\n",
       " 8: (2.3166666666666664, 20.083333333333332),\n",
       " 9: (4.375000000000001, 18.480555555555554),\n",
       " 10: (3.0833333333333335, 19.416666666666664),\n",
       " 11: (5.333333333333333, 17.166666666666664),\n",
       " 12: (6.083333333333333, 16.25),\n",
       " 13: (5.069444444444444, 17.26388888888889),\n",
       " 14: (12.157407407407407, 12.398148148148149),\n",
       " 15: (12.083333333333332, 12.291666666666666),\n",
       " 16: (19.133333333333333, 7.55),\n",
       " 17: (16.802083333333332, 7.364583333333334),\n",
       " 18: (21.187500000000004, 6.979166666666667),\n",
       " 19: (22.284632034632036, 7.3225108225108215),\n",
       " 20: (12.791666666666666, 10.458333333333332),\n",
       " 21: (20.684280303030302, 8.763636363636362),\n",
       " 22: (14.625, 11.125),\n",
       " 23: (11.91774891774892, 13.594155844155845)}"
      ]
     },
     "execution_count": 143,
     "metadata": {},
     "output_type": "execute_result"
    }
   ],
   "source": [
    "rain_eff"
   ]
  },
  {
   "cell_type": "code",
   "execution_count": 144,
   "metadata": {},
   "outputs": [
    {
     "data": {
      "text/plain": [
       "{0: (11.458333333333334, 13.291666666666668),\n",
       " 1: (4.166666666666667, 17.833333333333332),\n",
       " 2: (12.25, 15.0),\n",
       " 3: (9.963636363636363, 15.436363636363637),\n",
       " 4: (10.333333333333334, 18.333333333333332),\n",
       " 5: (19.666666666666668, 13.333333333333334),\n",
       " 6: (1.8333333333333333, 20.166666666666668),\n",
       " 7: (7.8194444444444455, 17.784722222222218),\n",
       " 8: (5.625, 16.625),\n",
       " 9: (4.5, 17.5),\n",
       " 10: (2.4722222222222228, 19.72222222222222),\n",
       " 11: (7.416666666666667, 15.333333333333334),\n",
       " 12: (4.733333333333333, 17.266666666666666),\n",
       " 13: (24.0, 9.958333333333334),\n",
       " 14: (7.166666666666668, 14.833333333333336),\n",
       " 15: (6.645833333333333, 15.854166666666666),\n",
       " 16: (19.444444444444446, 4.055555555555555),\n",
       " 17: (18.98333333333333, 7.291666666666666),\n",
       " 18: (13.560606060606062, 9.582251082251082),\n",
       " 19: (18.047619047619044, 8.821428571428571),\n",
       " 20: (20.703703703703706, 8.13888888888889),\n",
       " 21: (18.708333333333336, 7.4305555555555545),\n",
       " 22: (20.70328282828283, 9.18560606060606),\n",
       " 23: (7.083333333333333, 16.25)}"
      ]
     },
     "execution_count": 144,
     "metadata": {},
     "output_type": "execute_result"
    }
   ],
   "source": [
    "lrain_eff"
   ]
  },
  {
   "cell_type": "code",
   "execution_count": 145,
   "metadata": {},
   "outputs": [
    {
     "data": {
      "text/plain": [
       "{0: (8.434170653907495, 16.26327751196172),\n",
       " 1: (7.962827759459883, 16.60880829015544),\n",
       " 2: (7.785385602052269, 16.742352092352093),\n",
       " 3: (7.464992668621702, 16.993299934832194),\n",
       " 4: (7.004553513862024, 17.264063507414573),\n",
       " 5: (6.8558903643173315, 17.323544433094995),\n",
       " 6: (7.252174147896074, 16.998717117701077),\n",
       " 7: (7.184491978609626, 16.92344838761951),\n",
       " 8: (5.6421973748176955, 17.93031923513207),\n",
       " 9: (5.214131106988249, 17.900322957465814),\n",
       " 10: (6.138102073365233, 16.954362041467306),\n",
       " 11: (6.992518651561205, 16.13715575204937),\n",
       " 12: (8.047429078014183, 15.154617988394582),\n",
       " 13: (9.309163059163058, 13.876791726791726),\n",
       " 14: (10.102358479407659, 13.23022969744281),\n",
       " 15: (11.976730997122058, 11.539766378872526),\n",
       " 16: (17.25372114224573, 7.773700616323566),\n",
       " 17: (22.36114535182332, 6.203492552645095),\n",
       " 18: (21.72025389025389, 7.533947583947584),\n",
       " 19: (19.09453373514147, 9.338749372174787),\n",
       " 20: (16.05154906989146, 11.625020978417718),\n",
       " 21: (12.530297599652439, 13.774655153687412),\n",
       " 22: (10.452761485826, 14.901058976865428),\n",
       " 23: (9.422478070175439, 15.625009968102074)}"
      ]
     },
     "execution_count": 145,
     "metadata": {},
     "output_type": "execute_result"
    }
   ],
   "source": [
    "norain_eff"
   ]
  },
  {
   "cell_type": "code",
   "execution_count": 148,
   "metadata": {},
   "outputs": [],
   "source": [
    "rain = widgets.RadioButtons(\n",
    "    options=['No rain', 'Light rain','Rain'],\n",
    "    description=\"Weather\",\n",
    "    #button_style=\"info\",\n",
    "    icon=\"check\"\n",
    ")\n",
    "\n",
    "container = widgets.HBox(children=[rain])\n",
    "\n",
    "trace1 = go.Scatter(y=[val[0] for val in norain_eff.values()], name='Bikes available, no rain')\n",
    "trace2 = go.Scatter(y=[val[0] for val in lrain_eff.values()], name='Bikes available, light rain')\n",
    "trace3 = go.Scatter(y=[val[0] for val in rain_eff.values()], name='Bikes available, rain')\n",
    "\n",
    "g = go.FigureWidget(data=[trace1],\n",
    "                    layout=go.Layout(\n",
    "                        title=dict(\n",
    "                            text='Citybikes available, no rain (Kaisaniemi)',\n",
    "                        ),\n",
    "                        colorway=['orange']\n",
    "                    ))"
   ]
  },
  {
   "cell_type": "code",
   "execution_count": 149,
   "metadata": {},
   "outputs": [],
   "source": [
    "def response(change):\n",
    "    if rain.value == 'Rain':\n",
    "        vals = trace3.y\n",
    "        desc = 'Citybikes available, rain (Kaisaniemi)'\n",
    "        color = 'blue'\n",
    "    elif rain.value == 'Light rain':\n",
    "        vals = trace2.y\n",
    "        desc = 'Citybikes available, light rain (Kaisaniemi)'\n",
    "        color = 'steelblue'\n",
    "    elif rain.value == 'No rain':\n",
    "        vals = trace1.y\n",
    "        desc = 'Citybikes available, no rain (Kaisaniemi)'\n",
    "        color = 'orange'\n",
    "    with g.batch_update():\n",
    "        g.data[0].y = vals\n",
    "        g.layout = go.Layout(\n",
    "            title = dict(\n",
    "                text = desc\n",
    "            ),\n",
    "            colorway=[color]\n",
    "        )\n",
    "        g.update_yaxes(range=[0, 25], fixedrange=True)\n",
    "\n",
    "rain.observe(response, names='value')"
   ]
  },
  {
   "cell_type": "code",
   "execution_count": 150,
   "metadata": {},
   "outputs": [
    {
     "data": {
      "application/vnd.jupyter.widget-view+json": {
       "model_id": "b287eced38f74c42a8189ee560848415",
       "version_major": 2,
       "version_minor": 0
      },
      "text/plain": [
       "VBox(children=(HBox(children=(RadioButtons(description='Weather', options=('No rain', 'Light rain', 'Rain'), v…"
      ]
     },
     "metadata": {},
     "output_type": "display_data"
    }
   ],
   "source": [
    "g.update_yaxes(range=[0, 25], fixedrange=True)\n",
    "widgets.VBox([container, g])"
   ]
  },
  {
   "cell_type": "code",
   "execution_count": null,
   "metadata": {},
   "outputs": [],
   "source": []
  },
  {
   "cell_type": "code",
   "execution_count": null,
   "metadata": {},
   "outputs": [],
   "source": []
  }
 ],
 "metadata": {
  "kernelspec": {
   "display_name": "Python 3",
   "language": "python",
   "name": "python3"
  },
  "language_info": {
   "codemirror_mode": {
    "name": "ipython",
    "version": 3
   },
   "file_extension": ".py",
   "mimetype": "text/x-python",
   "name": "python",
   "nbconvert_exporter": "python",
   "pygments_lexer": "ipython3",
   "version": "3.8.5"
  }
 },
 "nbformat": 4,
 "nbformat_minor": 4
}
